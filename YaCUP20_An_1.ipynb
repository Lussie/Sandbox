{
 "cells": [
  {
   "cell_type": "markdown",
   "metadata": {},
   "source": [
    "# Пользовательские логи"
   ]
  },
  {
   "cell_type": "markdown",
   "metadata": {},
   "source": [
    "В файле log.csv хранятся логи пользовательской активности. Каждая строка в файле — это одно событие, которое описано в формате: время, идентификатор пользователя, тип события, параметр события.\n",
    "\n",
    "На основе файла log.csv выполните следующие задания:\n",
    "\n",
    "Назовем сессией последовательный набор событий одного пользователя. Сессия заканчивается, если пользователь не совершал действий в течение 30 минут или более. Склейте события в сессии. В ответе укажите число сессий, которые начались 2020-04-14.\n",
    "Будем считать, что пользователь слушал музыку, если у него было событие с типом 1 и параметром music. Найдите день, когда число уникальных пользователей, слушавших музыку, было максимальным. В ответе укажите этот максимум.\n",
    "Найдите пятнадцатиминутный интервал [time; time + 15 minutes), в течение которого произошло больше всего событий. В ответе укажите время начала интервала в формате YYYY-MM-DD_hh:mm:ss. Если таких интервалов несколько, укажите начало наиболее позднего интервала. Обратите внимание, что началом интервала может быть произвольный момент времени."
   ]
  },
  {
   "cell_type": "code",
   "execution_count": 2,
   "metadata": {},
   "outputs": [],
   "source": [
    "import pandas as pd"
   ]
  },
  {
   "cell_type": "code",
   "execution_count": 3,
   "metadata": {},
   "outputs": [],
   "source": [
    "import datetime as dt"
   ]
  },
  {
   "cell_type": "code",
   "execution_count": 11,
   "metadata": {},
   "outputs": [],
   "source": [
    "df = pd.read_csv('log.csv')"
   ]
  },
  {
   "cell_type": "code",
   "execution_count": 69,
   "metadata": {},
   "outputs": [
    {
     "name": "stdout",
     "output_type": "stream",
     "text": [
      "<class 'pandas.core.frame.DataFrame'>\n",
      "RangeIndex: 200000 entries, 0 to 199999\n",
      "Data columns (total 5 columns):\n",
      " #   Column      Non-Null Count   Dtype         \n",
      "---  ------      --------------   -----         \n",
      " 0   date        200000 non-null  object        \n",
      " 1   user        200000 non-null  int64         \n",
      " 2   event_type  200000 non-null  int64         \n",
      " 3   parameter   160043 non-null  object        \n",
      " 4   datetime    200000 non-null  datetime64[ns]\n",
      "dtypes: datetime64[ns](1), int64(2), object(2)\n",
      "memory usage: 7.6+ MB\n"
     ]
    }
   ],
   "source": [
    "df.info()"
   ]
  },
  {
   "cell_type": "code",
   "execution_count": 5,
   "metadata": {},
   "outputs": [
    {
     "data": {
      "text/html": [
       "<div>\n",
       "<style scoped>\n",
       "    .dataframe tbody tr th:only-of-type {\n",
       "        vertical-align: middle;\n",
       "    }\n",
       "\n",
       "    .dataframe tbody tr th {\n",
       "        vertical-align: top;\n",
       "    }\n",
       "\n",
       "    .dataframe thead th {\n",
       "        text-align: right;\n",
       "    }\n",
       "</style>\n",
       "<table border=\"1\" class=\"dataframe\">\n",
       "  <thead>\n",
       "    <tr style=\"text-align: right;\">\n",
       "      <th></th>\n",
       "      <th>date</th>\n",
       "      <th>user</th>\n",
       "      <th>event_type</th>\n",
       "      <th>parameter</th>\n",
       "    </tr>\n",
       "  </thead>\n",
       "  <tbody>\n",
       "    <tr>\n",
       "      <th>0</th>\n",
       "      <td>2020-04-01_00:05:46</td>\n",
       "      <td>180397</td>\n",
       "      <td>3</td>\n",
       "      <td>NaN</td>\n",
       "    </tr>\n",
       "    <tr>\n",
       "      <th>1</th>\n",
       "      <td>2020-04-01_00:00:21</td>\n",
       "      <td>662939</td>\n",
       "      <td>4</td>\n",
       "      <td>music</td>\n",
       "    </tr>\n",
       "    <tr>\n",
       "      <th>2</th>\n",
       "      <td>2020-04-01_00:20:50</td>\n",
       "      <td>703220</td>\n",
       "      <td>2</td>\n",
       "      <td>NaN</td>\n",
       "    </tr>\n",
       "    <tr>\n",
       "      <th>3</th>\n",
       "      <td>2020-04-01_00:22:31</td>\n",
       "      <td>405034</td>\n",
       "      <td>1</td>\n",
       "      <td>unknown</td>\n",
       "    </tr>\n",
       "    <tr>\n",
       "      <th>4</th>\n",
       "      <td>2020-04-01_00:30:21</td>\n",
       "      <td>662939</td>\n",
       "      <td>0</td>\n",
       "      <td>text</td>\n",
       "    </tr>\n",
       "  </tbody>\n",
       "</table>\n",
       "</div>"
      ],
      "text/plain": [
       "                  date    user  event_type parameter\n",
       "0  2020-04-01_00:05:46  180397           3       NaN\n",
       "1  2020-04-01_00:00:21  662939           4     music\n",
       "2  2020-04-01_00:20:50  703220           2       NaN\n",
       "3  2020-04-01_00:22:31  405034           1   unknown\n",
       "4  2020-04-01_00:30:21  662939           0      text"
      ]
     },
     "execution_count": 5,
     "metadata": {},
     "output_type": "execute_result"
    }
   ],
   "source": [
    "df.head()"
   ]
  },
  {
   "cell_type": "markdown",
   "metadata": {},
   "source": [
    "проверяю работу datetime"
   ]
  },
  {
   "cell_type": "raw",
   "metadata": {},
   "source": [
    "a = dt.datetime.strptime(df.loc[0,'date'], '%Y-%m-%d_%H:%M:%S')\n",
    "b = dt.datetime.strptime(df.loc[1,'date'], '%Y-%m-%d_%H:%M:%S')\n",
    "b-a"
   ]
  },
  {
   "cell_type": "markdown",
   "metadata": {},
   "source": [
    "Обход датафрейма. Но это занимает очень много ресурсов и времени. Неэффективно"
   ]
  },
  {
   "cell_type": "raw",
   "metadata": {},
   "source": [
    "df['datetime'] = 0\n",
    "for i in range(df.shape[0]):\n",
    "    df.loc[i, 'datetime'] = dt.datetime.strptime(df.loc[i, 'date'], '%Y-%m-%d_%H:%M:%S')"
   ]
  },
  {
   "cell_type": "markdown",
   "metadata": {},
   "source": [
    "Попробую использовать метод apply"
   ]
  },
  {
   "cell_type": "code",
   "execution_count": 12,
   "metadata": {},
   "outputs": [],
   "source": [
    "df['datetime'] = df.apply(lambda row: dt.datetime.strptime(row['date'], '%Y-%m-%d_%H:%M:%S'), axis=1)"
   ]
  },
  {
   "cell_type": "markdown",
   "metadata": {},
   "source": [
    "Получилось гораздо быстрее. Продолжаем"
   ]
  },
  {
   "cell_type": "markdown",
   "metadata": {},
   "source": [
    "Сортируем датафрейм по дате, обновляем индексы"
   ]
  },
  {
   "cell_type": "code",
   "execution_count": 13,
   "metadata": {},
   "outputs": [],
   "source": [
    "df = df.sort_values(by='datetime').reset_index(drop='True')"
   ]
  },
  {
   "cell_type": "code",
   "execution_count": 8,
   "metadata": {},
   "outputs": [
    {
     "data": {
      "text/html": [
       "<div>\n",
       "<style scoped>\n",
       "    .dataframe tbody tr th:only-of-type {\n",
       "        vertical-align: middle;\n",
       "    }\n",
       "\n",
       "    .dataframe tbody tr th {\n",
       "        vertical-align: top;\n",
       "    }\n",
       "\n",
       "    .dataframe thead th {\n",
       "        text-align: right;\n",
       "    }\n",
       "</style>\n",
       "<table border=\"1\" class=\"dataframe\">\n",
       "  <thead>\n",
       "    <tr style=\"text-align: right;\">\n",
       "      <th></th>\n",
       "      <th>date</th>\n",
       "      <th>user</th>\n",
       "      <th>event_type</th>\n",
       "      <th>parameter</th>\n",
       "      <th>datetime</th>\n",
       "    </tr>\n",
       "  </thead>\n",
       "  <tbody>\n",
       "    <tr>\n",
       "      <th>0</th>\n",
       "      <td>2020-04-01_00:00:21</td>\n",
       "      <td>662939</td>\n",
       "      <td>4</td>\n",
       "      <td>music</td>\n",
       "      <td>2020-04-01 00:00:21</td>\n",
       "    </tr>\n",
       "    <tr>\n",
       "      <th>1</th>\n",
       "      <td>2020-04-01_00:05:46</td>\n",
       "      <td>180397</td>\n",
       "      <td>3</td>\n",
       "      <td>NaN</td>\n",
       "      <td>2020-04-01 00:05:46</td>\n",
       "    </tr>\n",
       "    <tr>\n",
       "      <th>2</th>\n",
       "      <td>2020-04-01_00:20:50</td>\n",
       "      <td>703220</td>\n",
       "      <td>2</td>\n",
       "      <td>NaN</td>\n",
       "      <td>2020-04-01 00:20:50</td>\n",
       "    </tr>\n",
       "    <tr>\n",
       "      <th>3</th>\n",
       "      <td>2020-04-01_00:22:31</td>\n",
       "      <td>405034</td>\n",
       "      <td>1</td>\n",
       "      <td>unknown</td>\n",
       "      <td>2020-04-01 00:22:31</td>\n",
       "    </tr>\n",
       "    <tr>\n",
       "      <th>4</th>\n",
       "      <td>2020-04-01_00:30:21</td>\n",
       "      <td>662939</td>\n",
       "      <td>0</td>\n",
       "      <td>text</td>\n",
       "      <td>2020-04-01 00:30:21</td>\n",
       "    </tr>\n",
       "  </tbody>\n",
       "</table>\n",
       "</div>"
      ],
      "text/plain": [
       "                  date    user  event_type parameter            datetime\n",
       "0  2020-04-01_00:00:21  662939           4     music 2020-04-01 00:00:21\n",
       "1  2020-04-01_00:05:46  180397           3       NaN 2020-04-01 00:05:46\n",
       "2  2020-04-01_00:20:50  703220           2       NaN 2020-04-01 00:20:50\n",
       "3  2020-04-01_00:22:31  405034           1   unknown 2020-04-01 00:22:31\n",
       "4  2020-04-01_00:30:21  662939           0      text 2020-04-01 00:30:21"
      ]
     },
     "execution_count": 8,
     "metadata": {},
     "output_type": "execute_result"
    }
   ],
   "source": [
    "df.head()"
   ]
  },
  {
   "cell_type": "markdown",
   "metadata": {},
   "source": [
    "Создаем ses - список сессий. У каждой сессии три параметра: дата и время начала, дата и время последнего действия, номер пользователя"
   ]
  },
  {
   "cell_type": "markdown",
   "metadata": {},
   "source": [
    "Создаем первую запись из первой строки датафрейма"
   ]
  },
  {
   "cell_type": "code",
   "execution_count": 70,
   "metadata": {},
   "outputs": [],
   "source": [
    "ses = []\n",
    "ses += [[df.loc[0,'datetime'], df.loc[0,'datetime'], df.loc[0,'user']]]\n",
    "#print(ses)\n",
    "#print(ses[0][1])"
   ]
  },
  {
   "cell_type": "markdown",
   "metadata": {},
   "source": [
    "Проверяла работу на маленьком датафрейме"
   ]
  },
  {
   "cell_type": "code",
   "execution_count": 71,
   "metadata": {},
   "outputs": [],
   "source": [
    "df2 = df.head(10000)"
   ]
  },
  {
   "cell_type": "markdown",
   "metadata": {},
   "source": [
    "Запускаем на полном датафрейме"
   ]
  },
  {
   "cell_type": "code",
   "execution_count": 72,
   "metadata": {},
   "outputs": [],
   "source": [
    "for row in df2.itertuples():\n",
    "    n = 0\n",
    "    #print('break2')\n",
    "    #print(row)\n",
    "    #print(row[5])\n",
    "    #print(ses[-1])\n",
    "    for i in ses:\n",
    "        #print('break1')\n",
    "        #print(row[2])\n",
    "        #print(i[2])\n",
    "        #print(i[1])\n",
    "        if row[2] == i[2] and row[5] == i[1]:\n",
    "            n = 1\n",
    "        elif row[2] == i[2] and (row[5] - i[1]) < dt.timedelta(0, 30):\n",
    "            i[1] = row[5]\n",
    "            n = 1\n",
    "    if n == 0:\n",
    "        ses += [[row[5], row[5] , row[2]]]   \n",
    "#del ses[0]            "
   ]
  },
  {
   "cell_type": "code",
   "execution_count": 73,
   "metadata": {},
   "outputs": [
    {
     "data": {
      "text/plain": [
       "10000"
      ]
     },
     "execution_count": 73,
     "metadata": {},
     "output_type": "execute_result"
    }
   ],
   "source": [
    "len(ses)"
   ]
  },
  {
   "cell_type": "code",
   "execution_count": 41,
   "metadata": {},
   "outputs": [
    {
     "name": "stdout",
     "output_type": "stream",
     "text": [
      "[Timestamp('2020-04-01 00:00:21'), Timestamp('2020-04-01 00:00:21'), 662939]\n",
      "[Timestamp('2020-04-01 00:05:46'), Timestamp('2020-04-01 00:05:46'), 180397]\n",
      "[Timestamp('2020-04-01 00:20:50'), Timestamp('2020-04-01 00:20:50'), 703220]\n",
      "[Timestamp('2020-04-01 00:22:31'), Timestamp('2020-04-01 00:22:31'), 405034]\n",
      "[Timestamp('2020-04-01 00:30:21'), Timestamp('2020-04-01 00:30:21'), 662939]\n",
      "[Timestamp('2020-04-01 00:31:00'), Timestamp('2020-04-01 00:31:00'), 943401]\n",
      "[Timestamp('2020-04-01 00:33:28'), Timestamp('2020-04-01 00:33:28'), 283417]\n",
      "[Timestamp('2020-04-01 00:35:46'), Timestamp('2020-04-01 00:35:46'), 180397]\n",
      "[Timestamp('2020-04-01 00:36:43'), Timestamp('2020-04-01 00:36:43'), 375105]\n",
      "[Timestamp('2020-04-01 00:39:13'), Timestamp('2020-04-01 00:39:13'), 231944]\n"
     ]
    }
   ],
   "source": [
    "for i in ses:\n",
    "    print(i)"
   ]
  },
  {
   "cell_type": "raw",
   "metadata": {},
   "source": [
    "df['user'].unique[0:5]"
   ]
  },
  {
   "cell_type": "code",
   "execution_count": 64,
   "metadata": {},
   "outputs": [
    {
     "name": "stdout",
     "output_type": "stream",
     "text": [
      "[Timestamp('2020-04-01 02:15:06'), Timestamp('2020-04-01 02:15:06'), 529241]\n"
     ]
    }
   ],
   "source": [
    "for i in ses:\n",
    "    #print(i)\n",
    "    if i[2] == 529241:\n",
    "        print(i)"
   ]
  },
  {
   "cell_type": "code",
   "execution_count": null,
   "metadata": {},
   "outputs": [],
   "source": []
  }
 ],
 "metadata": {
  "kernelspec": {
   "display_name": "Python 3",
   "language": "python",
   "name": "python3"
  },
  "language_info": {
   "codemirror_mode": {
    "name": "ipython",
    "version": 3
   },
   "file_extension": ".py",
   "mimetype": "text/x-python",
   "name": "python",
   "nbconvert_exporter": "python",
   "pygments_lexer": "ipython3",
   "version": "3.7.6"
  }
 },
 "nbformat": 4,
 "nbformat_minor": 4
}
